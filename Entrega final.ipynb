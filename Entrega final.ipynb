{
 "cells": [
  {
   "cell_type": "code",
   "execution_count": 220,
   "id": "be7714bc",
   "metadata": {},
   "outputs": [
    {
     "ename": "SyntaxError",
     "evalue": "invalid syntax (3515652860.py, line 4)",
     "output_type": "error",
     "traceback": [
      "  \u001b[36mCell\u001b[39m\u001b[36m \u001b[39m\u001b[32mIn[220]\u001b[39m\u001b[32m, line 4\u001b[39m\n\u001b[31m    \u001b[39m\u001b[31m3. Si el usuario responde que sí, solicita que ingrese el valor del cupón de descuento.\u001b[39m\n       ^\n\u001b[31mSyntaxError\u001b[39m\u001b[31m:\u001b[39m invalid syntax\n"
     ]
    }
   ],
   "source": [
    "# 41.En este ejercicio, se te pedirá que escribas un programa en Python que utilice condicionales para determinar elmonto final de una compra en una tienda en línea, después de aplicar un descuento. El programa debe hacer losiguiente:\n",
    "# 1. Solicita al usuario que ingrese el precio original de un artículo.\n",
    "# 2. Pregunta al usuario si tiene un cupón de descuento (respuesta sí o no).\n",
    "3. Si el usuario responde que sí, solicita que ingrese el valor del cupón de descuento.\n",
    "# 4. Aplica el descuento al precio original del artículo, siempre y cuando el valor del cupón sea válido (es decir, mayora cero). Por ejemplo, descuento de 15€.\n",
    "# 5. Muestra el precio final de la compra, teniendo en cuenta el descuento aplicado o sin él.\n",
    "# 6. Recuerda utilizar estructuras de control de flujo como if, elif y else para llevar a cabo estas acciones en tuprograma de Python.\n",
    "\n",
    "def calcular_compra_con_descuento():\n",
    "    \n",
    "        precio = float(input(\"Introduce el precio original del producto (€): \"))\n",
    "        \n",
    "        if precio < 0:\n",
    "            print(\"El precio no puede ser negativo.\")\n",
    "            return\n",
    "\n",
    "        tiene_cupon = input(\"¿Tienes un cupón de descuento? (sí / no): \").strip().lower()\n",
    "\n",
    "        if tiene_cupon == \"sí\":\n",
    "            valor_cupon = float(input(\"Introduce el valor del cupón (€):\"))\n",
    "            if valor_cupon > 0:\n",
    "                precio_final = precio - valor_cupon\n",
    "                if precio_final < 0:\n",
    "                    precio_final = 0\n",
    "                print(f\"Cupón aplicado. Precio final: {precio_final:.2f}€\")\n",
    "            else:\n",
    "                print(\"Cupón no válido. No se aplica descuento.\")\n",
    "                print(f\" Precio final: {precio:.2f}€\")\n",
    "\n",
    "        elif tiene_cupon == \"no\":\n",
    "            print(f\" Precio final sin descuento: {precio:.2f}€\")\n",
    "\n",
    "        else:\n",
    "            print(\"Respuesta inválida. Debe ser 'sí' o 'no'.\")\n",
    "\n",
    " \n",
    "print(\"Entrada inválida. Asegúrate de ingresar números válidos.\")\n",
    "\n"
   ]
  },
  {
   "cell_type": "code",
   "execution_count": 206,
   "id": "ef3eac35",
   "metadata": {},
   "outputs": [
    {
     "name": "stdout",
     "output_type": "stream",
     "text": [
      "Área del rectángulo: 50\n",
      "Área del triángulo: 12.0\n",
      "Área del círculo: 28.27\n"
     ]
    }
   ],
   "source": [
    "# 40. Escribe una función que tome dos parámetros: figura (una cadena que puede ser \"rectangulo\"\"triangulo\" ) y datos (una tupla con los datos necesarios para calcular el área de la figura).\"circulo\" o\n",
    "\n",
    "import math \n",
    "\n",
    "def calcular_area(figura, datos):\n",
    "    figura = figura.lower()  \n",
    "\n",
    "    if figura == \"rectangulo\":\n",
    "        base, altura = datos\n",
    "        area = base * altura\n",
    "        return f\"Área del rectángulo: {area}\"\n",
    "\n",
    "    elif figura == \"triangulo\":\n",
    "        base, altura = datos\n",
    "        area = (base * altura) / 2\n",
    "        return f\"Área del triángulo: {area}\"\n",
    "\n",
    "    elif figura == \"circulo\":\n",
    "        (radio,) = datos \n",
    "        area = math.pi * radio ** 2\n",
    "        return f\"Área del círculo: {area:.2f}\"\n",
    "\n",
    "    else:\n",
    "        return \"Figura no reconocida\"\n",
    "\n",
    "print(calcular_area(\"rectangulo\", (5, 10)))\n",
    "\n",
    "print(calcular_area(\"triangulo\", (4, 6)))\n",
    "\n",
    "print(calcular_area(\"circulo\", (3,)))\n",
    "\n"
   ]
  },
  {
   "cell_type": "code",
   "execution_count": null,
   "id": "27e82336",
   "metadata": {},
   "outputs": [
    {
     "name": "stdout",
     "output_type": "stream",
     "text": [
      "Por favor, introduce un número válido.\n"
     ]
    }
   ],
   "source": [
    "# 38.Escribe un programa que determine qué calificación en texto tiene un alumno en base a su calificación numérica.Las reglas de calificación son:- 0 - 69 insuficiente- 70 - 79 bien- 80 - 89 muy bien- 90 - 100 excelente\n",
    "\n",
    "def calificacion_texto():\n",
    "   \n",
    "        nota = int(input(\"Introduce la calificación (0 - 100): \"))\n",
    "        \n",
    "        if nota < 0 or nota > 100:\n",
    "            print(\"La calificación debe estar entre 0 y 100.\")\n",
    "        elif nota <= 69:\n",
    "            print(\"Tu calificación es: insuficiente \")\n",
    "        elif nota <= 79:\n",
    "            print(\"Tu calificación es: bien \")\n",
    "        elif nota <= 89:\n",
    "            print(\"Tu calificación es: muy bien \")\n",
    "        else:\n",
    "            print(\"Tu calificación es: excelente \")\n",
    "    \n",
    "print(\"Por favor, introduce un número válido.\")\n",
    "\n",
    "\n"
   ]
  },
  {
   "cell_type": "code",
   "execution_count": 196,
   "id": "008f8c5a",
   "metadata": {},
   "outputs": [
    {
     "name": "stdout",
     "output_type": "stream",
     "text": [
      "Por favor, introduce un número válido.\n"
     ]
    }
   ],
   "source": [
    "# 37. Genera un programa que nos diga si es de noche, de día o tarde según la hora proporcionada por el usuario.\n",
    "\n",
    "def determinar_momento_dia():\n",
    "\n",
    "        hora = int(input(\"Introduce la hora actual (0-23): 21 \"))\n",
    "\n",
    "        if hora < 0 or hora > 23:\n",
    "            print(\"Hora inválida. Debe estar entre 0 y 23.\")\n",
    "            return\n",
    "        \n",
    "        if 6 <= hora <= 11:\n",
    "            print(\"Es de día \")\n",
    "        elif 12 <= hora <= 19:\n",
    "            print(\"Es de tarde \")\n",
    "        else:\n",
    "            print(\"Es de noche \")\n",
    "\n",
    "print(\"Por favor, introduce un número válido.\")\n",
    "\n",
    "\n",
    "\n",
    "\n"
   ]
  },
  {
   "cell_type": "code",
   "execution_count": 169,
   "id": "9fcea7d6",
   "metadata": {},
   "outputs": [
    {
     "name": "stdout",
     "output_type": "stream",
     "text": [
      "Bob agregó 20€. Saldo actual: 100€.\n",
      "Bob transfirió 100€ a Alicia.\n",
      "Alicia retiró 50€. Saldo actual: 150€.\n"
     ]
    }
   ],
   "source": [
    "# 35.Crea la clase UsuarioBanco ,representa a un usuario de un banco con su nombre, saldo y si tiene o no cuentacorriente. Proporciona métodos para realizar operaciones como retirar dinero, transferir dinero desde otro usuario yagregar dinero al saldo.\n",
    "\n",
    "alicia = UsuarioBanco(\"Alicia\", 100, True)\n",
    "bob = UsuarioBanco(\"Bob\", 80, True)\n",
    "\n",
    "class UsuarioBanco:\n",
    "    def __init__(self, nombre, saldo, cuenta_corriente=True):\n",
    "        self.nombre = nombre\n",
    "        self.saldo = saldo\n",
    "        self.cuenta_corriente = cuenta_corriente\n",
    "\n",
    "    def retirar_dinero(self, cantidad):\n",
    "        if cantidad > self.saldo:\n",
    "            raise ValueError(f\"{self.nombre} no tiene suficiente saldo.\")\n",
    "        self.saldo -= cantidad\n",
    "        print(f\"{self.nombre} retiró {cantidad}€. Saldo actual: {self.saldo}€.\")\n",
    "\n",
    "    def transferir_dinero(self, otro_usuario, cantidad):\n",
    "        if cantidad > otro_usuario.saldo:\n",
    "            raise ValueError(f\"{otro_usuario.nombre} no tiene suficiente saldo para transferir.\")\n",
    "        otro_usuario.saldo -= cantidad\n",
    "        self.saldo += cantidad\n",
    "        print(f\"{otro_usuario.nombre} transfirió {cantidad}€ a {self.nombre}.\")\n",
    "\n",
    "    def agregar_dinero(self, cantidad):\n",
    "        self.saldo += cantidad\n",
    "        print(f\"{self.nombre} agregó {cantidad}€. Saldo actual: {self.saldo}€.\")\n",
    "\n",
    "bob.agregar_dinero(20)\n",
    "alicia.transferir_dinero(bob, 100)\n",
    "alicia.retirar_dinero(50) "
   ]
  },
  {
   "cell_type": "code",
   "execution_count": 160,
   "id": "d7bd59b6",
   "metadata": {},
   "outputs": [],
   "source": [
    "# 34.Crea la clase Arbol , define un árbol genérico con un tronco y ramas como atributos. Los métodos disponibles son:crecer_tronco , nueva_rama , crecer_ramas , quitarrama e info__arbol . El objetivo es implementar estos métodos paramanipular la estructura del árbol.\n",
    "\n",
    "class Arbol:\n",
    "    def __init__(self):\n",
    "        self.ramas = []  \n",
    "\n",
    "    def crecer_tronco(self):\n",
    "        self.tronco += 1  \n",
    "\n",
    "    def nueva_rama(self):\n",
    "        self.ramas.append(1)  \n",
    "\n",
    "    def crecer_ramas(self):\n",
    "        self.ramas = [rama + 1 for rama in self.ramas] \n",
    "\n",
    "    def quitar_rama(self, posicion):\n",
    "        if 0 <= posicion < len(self.ramas):\n",
    "            self.ramas.pop(posicion) \n",
    "        else:\n",
    "            print(\"Posición inválida.\")\n",
    "\n",
    "    def info_arbol(self):\n",
    "        return {\n",
    "            \"Longitud del tronco\": self.tronco,\n",
    "            \"Número de ramas\": len(self.ramas),\n",
    "            \"Longitudes de ramas\": self.ramas\n",
    "        }\n",
    "\n",
    "\n"
   ]
  },
  {
   "cell_type": "code",
   "execution_count": 152,
   "id": "99ce40e2",
   "metadata": {},
   "outputs": [
    {
     "name": "stdout",
     "output_type": "stream",
     "text": [
      "Resultado: [5, 7, 9]\n"
     ]
    }
   ],
   "source": [
    "# 33.Crea una función lambda que sume elementos correspondientes de dos listas dadas.\n",
    "\n",
    "lista1 = [1, 2, 3]\n",
    "lista2 = [4, 5, 6]\n",
    "\n",
    "resultado = list(map(lambda x, y: x + y, lista1, lista2))\n",
    "\n",
    "print(\"Resultado:\", resultado)"
   ]
  },
  {
   "cell_type": "code",
   "execution_count": 150,
   "id": "731ace2d",
   "metadata": {},
   "outputs": [
    {
     "name": "stdout",
     "output_type": "stream",
     "text": [
      "Luis Gómez trabaja aquí como Analista.\n",
      " Pedro López no trabaja aquí.\n"
     ]
    }
   ],
   "source": [
    "# 32.Crea una función que tome un nombre completo y una lista de empleados, busque el nombre completo en la lista ydevuelve el puesto del empleado si está en la lista, de lo contrario, devuelve un mensaje indicando que la personano trabaja aquí.\n",
    "\n",
    "empleados = [\n",
    "    {\"nombre\": \"Ana Pérez\", \"puesto\": \"Gerente\"},\n",
    "    {\"nombre\": \"Luis Gómez\", \"puesto\": \"Analista\"},\n",
    "    {\"nombre\": \"Carlos Díaz\", \"puesto\": \"Recepcionista\"}\n",
    "]\n",
    "\n",
    "def buscar_empleado(nombre_completo, lista_empleados):\n",
    "    for empleado in lista_empleados:\n",
    "        if empleado[\"nombre\"] == nombre_completo:\n",
    "            return f\"{nombre_completo} trabaja aquí como {empleado['puesto']}.\"\n",
    "    \n",
    "    return f\" {nombre_completo} no trabaja aquí.\"\n",
    "\n",
    "resultado1 = buscar_empleado(\"Luis Gómez\", empleados)\n",
    "print(resultado1)  \n",
    "\n",
    "resultado2 = buscar_empleado(\"Pedro López\", empleados)\n",
    "print(resultado2)\n"
   ]
  },
  {
   "cell_type": "code",
   "execution_count": null,
   "id": "2a5e04d6",
   "metadata": {},
   "outputs": [
    {
     "name": "stdout",
     "output_type": "stream",
     "text": [
      "True\n",
      "False\n",
      "True\n",
      "False\n"
     ]
    }
   ],
   "source": [
    "# 30.Crea una función que determine si dos palabras son anagramas, es decir, si están formadas por las mismas letraspero en diferente orden.\n",
    "\n",
    "def son_anagramas(palabra1, palabra2):\n",
    "    palabra1 = palabra1.replace(\" \", \"\").lower()\n",
    "    palabra2 = palabra2.replace(\" \", \"\").lower()\n",
    "    \n",
    "    return sorted(palabra1) == sorted(palabra2)\n",
    "\n",
    "print(son_anagramas(\"amor\", \"roma\"))       \n",
    "print(son_anagramas(\"perro\", \"gato\"))      \n",
    "print(son_anagramas(\"Listen\", \"Silent\"))   \n",
    "print(son_anagramas(\"ratón\", \"natro\"))     \n",
    "\n"
   ]
  },
  {
   "cell_type": "code",
   "execution_count": 133,
   "id": "0586c6cc",
   "metadata": {},
   "outputs": [
    {
     "name": "stdout",
     "output_type": "stream",
     "text": [
      "#####6789\n",
      "#####4321\n",
      "AB12\n",
      "X\n"
     ]
    }
   ],
   "source": [
    "# 29.Crea una función que convierta una variable en una cadena de texto y enmascare todos los caracteres con elcarácter '#', excepto los últimos cuatro.\n",
    "\n",
    "\n",
    "def enmascarar_texto(valor):\n",
    "    texto = str(valor)  \n",
    "    if len(texto) <= 4:\n",
    "        return texto\n",
    "    return \"#\" * (len(texto) - 4) + texto[-4:]\n",
    "\n",
    "print(enmascarar_texto(\"123456789\"))   \n",
    "print(enmascarar_texto(987654321))    \n",
    "print(enmascarar_texto(\"AB12\"))        \n",
    "print(enmascarar_texto(\"X\")) \n",
    "\n",
    "\n"
   ]
  },
  {
   "cell_type": "code",
   "execution_count": 126,
   "id": "e0baeb4d",
   "metadata": {},
   "outputs": [
    {
     "name": "stdout",
     "output_type": "stream",
     "text": [
      "Primer duplicado: 3\n"
     ]
    }
   ],
   "source": [
    "# 28.Crea una función que busque y devuelva el primer elemento duplicado en una lista dada\n",
    "\n",
    "numeros = [1, 3, 5, 3, 2, 1]\n",
    "\n",
    "def primer_duplicado(numeros):\n",
    "    vistos = set()\n",
    "    for elemento in numeros:\n",
    "        if elemento in vistos:\n",
    "            return elemento\n",
    "        vistos.add(elemento)\n",
    "    return \"No hay duplicados\"\n",
    "\n",
    "resultado = primer_duplicado(numeros)\n",
    "\n",
    "print(\"Primer duplicado:\", resultado)\n"
   ]
  },
  {
   "cell_type": "code",
   "execution_count": 124,
   "id": "241cece5",
   "metadata": {},
   "outputs": [
    {
     "name": "stdout",
     "output_type": "stream",
     "text": [
      "Promedio: 7.67\n"
     ]
    }
   ],
   "source": [
    "# 27.Crea una función que calcule el promedio de una lista de números.\n",
    "\n",
    "numeros = [5, 8, 10,]\n",
    "\n",
    "def calcular_promedio(numeros):\n",
    "    if not numeros: \n",
    "        return \"La lista está vacía\"\n",
    "    return sum(numeros) / len(numeros)\n",
    "\n",
    "resultado = calcular_promedio(numeros)\n",
    "\n",
    "print(\"Promedio:\", round(resultado, 2))\n"
   ]
  },
  {
   "cell_type": "code",
   "execution_count": 121,
   "id": "961f4401",
   "metadata": {},
   "outputs": [
    {
     "name": "stdout",
     "output_type": "stream",
     "text": [
      "1\n",
      "3\n"
     ]
    }
   ],
   "source": [
    "# 26.Crea una función lambda que calcule el resto de la división entre dos números dados.\n",
    "\n",
    "resto = lambda x, y: x % y\n",
    "print(resto(10, 3)) \n",
    "print(resto(15, 4))  \n"
   ]
  },
  {
   "cell_type": "code",
   "execution_count": 120,
   "id": "a0db6462",
   "metadata": {},
   "outputs": [
    {
     "name": "stdout",
     "output_type": "stream",
     "text": [
      "28\n"
     ]
    }
   ],
   "source": [
    "# 25.Crea una función que cuente el número de caracteres en una cadena de texto dada.\n",
    "\n",
    "frase = \"Hola programadores de Python\"\n",
    "\n",
    "def contar_caracteres(cadena):\n",
    "    return len(cadena)\n",
    "\n",
    "resultado = contar_caracteres(frase)\n",
    "print(resultado)"
   ]
  },
  {
   "cell_type": "code",
   "execution_count": 117,
   "id": "2bde04c4",
   "metadata": {},
   "outputs": [
    {
     "name": "stdout",
     "output_type": "stream",
     "text": [
      "-118\n"
     ]
    }
   ],
   "source": [
    "# 24.Calcula la diferencia total en los valores de una lista. Usa la función reduce().\n",
    "numeros = [20, 5, 3, 15, 75, 40]\n",
    "\n",
    "def diferencia_total(numeros):\n",
    "    return reduce(lambda x, y: x - y, numeros)\n",
    "\n",
    "resultado = diferencia_total(numeros)\n",
    "\n",
    "print(resultado)"
   ]
  },
  {
   "cell_type": "code",
   "execution_count": 113,
   "id": "6447643a",
   "metadata": {},
   "outputs": [
    {
     "name": "stdout",
     "output_type": "stream",
     "text": [
      "Hola mundo desde Python\n"
     ]
    }
   ],
   "source": [
    "# 23.Concatena una lista de palabras.Usa la función reduce().\n",
    "\n",
    "frase = [\"Hola\", \"mundo\", \"desde\", \"Python\"]\n",
    "\n",
    "from functools import reduce\n",
    "\n",
    "def concatenar_palabras(frase):\n",
    "    return reduce(lambda x, y: x + ' ' + y, frase)\n",
    "\n",
    "resultado = concatenar_palabras(frase)\n",
    "print (resultado)\n"
   ]
  },
  {
   "cell_type": "code",
   "execution_count": 114,
   "id": "4adc47cc",
   "metadata": {},
   "outputs": [
    {
     "name": "stdout",
     "output_type": "stream",
     "text": [
      "1920\n"
     ]
    }
   ],
   "source": [
    "# 22.Dada una lista numérica, obtén el producto total de los valores de dicha lista.Usa la función reduce().\n",
    "\n",
    "numeros = [2, 3, 4, 8, 10]\n",
    "\n",
    "from functools import reduce\n",
    "\n",
    "def producto_total(numeros):\n",
    "    return reduce(lambda x, y: x * y, numeros)\n",
    "\n",
    "resultado = producto_total(numeros)\n",
    "print(resultado)\n",
    "\n"
   ]
  },
  {
   "cell_type": "code",
   "execution_count": 107,
   "id": "752e5979",
   "metadata": {},
   "outputs": [
    {
     "name": "stdout",
     "output_type": "stream",
     "text": [
      "27\n"
     ]
    }
   ],
   "source": [
    "# 21.Crea una función que calcule el cubo de un número dado mediante una función lambda\n",
    "\n",
    "cubo = lambda x: x ** 3\n",
    "print(cubo(3))"
   ]
  },
  {
   "cell_type": "code",
   "execution_count": 100,
   "id": "4f258667",
   "metadata": {},
   "outputs": [
    {
     "name": "stdout",
     "output_type": "stream",
     "text": [
      "[1, 3, 5, 7]\n"
     ]
    }
   ],
   "source": [
    "# 20. Para una lista con elementos tipo integer y string obtén una nueva lista sólo con los valores int. Usa la funciónfilter()\n",
    "\n",
    "lista = [1, \"dos\", 3, \"cuatro\", 5, \"seis\", 7]\n",
    "\n",
    "def filtrar_enteros(lista):\n",
    "    return list(filter(lambda x: isinstance(x, int), lista))\n",
    "\n",
    "solo_enteros = filtrar_enteros(mi_lista)\n",
    "\n",
    "print(solo_enteros)\n",
    "\n"
   ]
  },
  {
   "cell_type": "code",
   "execution_count": 95,
   "id": "9aca500c",
   "metadata": {},
   "outputs": [
    {
     "name": "stdout",
     "output_type": "stream",
     "text": [
      "[1, 3, 5, 7, 9]\n"
     ]
    }
   ],
   "source": [
    "# 19. Crea una función lambda que filtre los números impares de una lista dada.\n",
    "\n",
    "numeros = [1, 2, 3, 4, 5, 6, 7, 8, 9, 10]\n",
    "impares = list(filter(lambda x: x % 2 != 0, numeros))\n",
    "print(impares)\n"
   ]
  },
  {
   "cell_type": "code",
   "execution_count": 93,
   "id": "843ef0c4",
   "metadata": {},
   "outputs": [
    {
     "name": "stdout",
     "output_type": "stream",
     "text": [
      "[{'nombre': 'Ana', 'edad': 20, 'calificacion': 95}, {'nombre': 'Marta', 'edad': 21, 'calificacion': 90}]\n"
     ]
    }
   ],
   "source": [
    "# 18.Escribe un programa en Python que cree una lista de diccionarios que contenga información de estudiantes(nombre, edad, calificación) y use la función filter para extraer a los estudiantes con una calificación mayor o igual a90. Usa la función filter()\n",
    "\n",
    "estudiantes = [\n",
    "    {\"nombre\": \"Ana\", \"edad\": 20, \"calificacion\": 95},\n",
    "    {\"nombre\": \"Luis\", \"edad\": 22, \"calificacion\": 85},\n",
    "    {\"nombre\": \"Marta\", \"edad\": 21, \"calificacion\": 90},\n",
    "    {\"nombre\": \"Carlos\", \"edad\": 23, \"calificacion\": 75}\n",
    "]\n",
    "\n",
    "def estudiantes_destacados(estudiantes):\n",
    "    return list(filter(lambda est: est[\"calificacion\"] >= 90, estudiantes))\n",
    "\n",
    "destacados = estudiantes_destacados(estudiantes)\n",
    "print(destacados)\n"
   ]
  },
  {
   "cell_type": "code",
   "execution_count": 90,
   "id": "8d6e5676",
   "metadata": {},
   "outputs": [
    {
     "name": "stdout",
     "output_type": "stream",
     "text": [
      "572\n"
     ]
    }
   ],
   "source": [
    "# 17. Crea una función que tome una lista de dígitos y devuelva el número correspondiente. Por ejemplo, [5,7,2] corresponde al número quinientos setenta y dos (572). Usa la función reduce()\n",
    "\n",
    "digitos = [5, 7, 2]\n",
    "\n",
    "from functools import reduce\n",
    "\n",
    "def unir_digitos(digitos):\n",
    "    return reduce(lambda x, y: x * 10 + y, digitos)\n",
    "\n",
    "\n",
    "numero = unir_digitos(digitos)\n",
    "print(numero)\n"
   ]
  },
  {
   "cell_type": "code",
   "execution_count": 83,
   "id": "b98537b9",
   "metadata": {},
   "outputs": [
    {
     "name": "stdout",
     "output_type": "stream",
     "text": [
      "['elefantes', 'animales', 'grandes']\n"
     ]
    }
   ],
   "source": [
    "# 16. Escribe una función que tome una cadena de texto y un número entero n como parámetros y devuelva una lista detodas las palabras que sean más largas que n. Usa la función filter()\n",
    "\n",
    "frase = \"Los elefantes son animales muy grandes\"\n",
    "n = 5\n",
    "\n",
    "def palabras_largas(frase, n):\n",
    "    palabras = frase.split()\n",
    "    return list(filter(lambda palabra: len(palabra) > n, palabras))\n",
    "\n",
    "resultado = palabras_largas(frase, n)\n",
    "print(resultado)\n",
    "\n",
    "\n"
   ]
  },
  {
   "cell_type": "code",
   "execution_count": null,
   "id": "ad01488c",
   "metadata": {},
   "outputs": [
    {
     "name": "stdout",
     "output_type": "stream",
     "text": [
      "[48, 68, 35, 37, 103, 2053]\n"
     ]
    }
   ],
   "source": [
    "# 15.Crea una función lambda que sume 3 a cada número de una lista dada.\n",
    "\n",
    "numeros = [45,65, 32, 34 ,100, 2050]\n",
    "resultado = list(map(lambda x: x + 3, numeros))\n",
    "print(resultado)\n"
   ]
  },
  {
   "cell_type": "code",
   "execution_count": 74,
   "id": "d56f0eab",
   "metadata": {},
   "outputs": [
    {
     "name": "stdout",
     "output_type": "stream",
     "text": [
      "['mesa', 'mueble', 'mantel']\n"
     ]
    }
   ],
   "source": [
    "# 14. Crea una función que retorne las palabras de una lista de palabras que comience con una letra en especifico. Usa lafunción filter()\n",
    "\n",
    "lista = [\"mesa\", \"silla\", \"mueble\", \"mantel\"]\n",
    "letra = \"m\"\n",
    "\n",
    "def palabras_con_letra(lista, letra):\n",
    "   return list(filter(lambda palabra: palabra.startswith(letra), lista))\n",
    "\n",
    "resultado = palabras_con_letra(lista, letra)\n",
    "print(resultado)\n",
    "\n"
   ]
  },
  {
   "cell_type": "code",
   "execution_count": 64,
   "id": "5dd3bd3c",
   "metadata": {},
   "outputs": [
    {
     "name": "stdout",
     "output_type": "stream",
     "text": [
      "[('P', 'p'), ('E', 'e'), ('R', 'r'), ('L', 'l'), ('A', 'a'), ('H', 'h'), ('F', 'f'), ('O', 'o'), ('S', 's')]\n"
     ]
    }
   ],
   "source": [
    "# 13. Genera una función la cual, para un conjunto de caracteres, devuelva una lista de tuplas con cada letra enmayúsculas y minúsculas. Las letras no pueden estar repetidas .Usa la función map()\n",
    "\n",
    "def letras_mayus_minus(cadena):\n",
    "    letras_unicas = set(cadena.lower()) \n",
    "    letras_filtradas = filter(str.isalpha, letras_unicas)\n",
    "    resultado = list(map(lambda l: (l.upper(), l.lower()), letras_filtradas))\n",
    "    return resultado\n",
    "\n",
    "cadena = \"Hola profesor\"\n",
    "resultado = letras_mayus_minus(cadena)\n",
    "print(resultado)\n"
   ]
  },
  {
   "cell_type": "code",
   "execution_count": 63,
   "id": "eab2bf43",
   "metadata": {},
   "outputs": [
    {
     "name": "stdout",
     "output_type": "stream",
     "text": [
      "[2, 5, 2, 8, 2, 6]\n"
     ]
    }
   ],
   "source": [
    "# 12.Genera una función que al recibir una frase devuelva una lista con la longitud de cada palabra. Usa la función map()\n",
    "\n",
    "def longitudes_palabras(frase):\n",
    "    palabras = frase.split() \n",
    "    longitudes = list(map(len, palabras)) \n",
    "    return longitudes\n",
    "\n",
    "frase = \"Me gusta el programa de Python\"\n",
    "resultado = longitudes_palabras(frase)\n",
    "print(resultado)\n"
   ]
  },
  {
   "cell_type": "code",
   "execution_count": 57,
   "id": "1c40dfa7",
   "metadata": {},
   "outputs": [
    {
     "name": "stdout",
     "output_type": "stream",
     "text": [
      "Tu edad es: 25 años.\n"
     ]
    }
   ],
   "source": [
    "# 11.Escribe un programa que pida al usuario que introduzca su edad. Si el usuario ingresa un valor no numérico o unvalor fuera del rango esperado (por ejemplo, menor que 0 o mayor que 120), maneja las excepcionesadecuadamente.\n",
    "\n",
    "def pedir_edad():\n",
    "        edad = int(input(\"Introduce tu edad: 25\"))\n",
    "        \n",
    "        if edad < 0 or edad > 40:\n",
    "            print(\"Edad fuera del rango válido (0 a 40 años).\")\n",
    "        else:\n",
    "            print(f\"Tu edad es: {edad} años.\")\n",
    "\n",
    "pedir_edad()\n"
   ]
  },
  {
   "cell_type": "code",
   "execution_count": 59,
   "id": "f1e51d4f",
   "metadata": {},
   "outputs": [
    {
     "ename": "IndentationError",
     "evalue": "unindent does not match any outer indentation level (<string>, line 10)",
     "output_type": "error",
     "traceback": [
      "  \u001b[36mFile \u001b[39m\u001b[32m<string>:10\u001b[39m\n\u001b[31m    \u001b[39m\u001b[31mexcept ValueError as error:\u001b[39m\n                               ^\n\u001b[31mIndentationError\u001b[39m\u001b[31m:\u001b[39m unindent does not match any outer indentation level\n"
     ]
    }
   ],
   "source": [
    "# 10. Escribe una función que reciba una lista de números y calcule su promedio. Si la lista está vacía, lanza unaexcepción personalizada y maneja el error adecuadamente.\n",
    "\n",
    "def calcular_promedio(lista):\n",
    "        if not lista:\n",
    "            raise ValueError(\"La lista está vacía. No se puede calcular el promedio.\")\n",
    "        \n",
    "        promedio = sum(lista) / len(lista)\n",
    "        print(f\"El promedio de la lista es: {promedio}\")\n",
    "\n",
    "    except ValueError as error:\n",
    "        print(error)\n",
    "\n",
    "notas_promedio = [5, 8, 10]\n",
    "calcular_promedio(notas_promedio)\n"
   ]
  },
  {
   "cell_type": "code",
   "execution_count": 44,
   "id": "ba780188",
   "metadata": {},
   "outputs": [
    {
     "name": "stdout",
     "output_type": "stream",
     "text": [
      "Mascotas permitidas: ['Perro', 'Gato', 'Conejo']\n"
     ]
    }
   ],
   "source": [
    "# 9. Escribe una función que tome una lista de nombres de mascotas como parámetro y devuelva una nueva listaexcluyendo ciertas mascotas prohibidas en España. La lista de mascotas a excluir es [\"Mapache\", \"Tigre\",\"Seriente Pitón\", \"Cocodrilo\", \"Oso\"].Usa la función filter()\n",
    "\n",
    "prohibidas = [\"Mapache\", \"Tigre\", \"Serpiente Pitón\", \"Cocodrilo\", \"Oso\"]\n",
    "lista_mascotas = [\"Perro\", \"Gato\", \"Mapache\", \"Tigre\", \"Conejo\", \"Serpiente Pitón\"]\n",
    "\n",
    "resultado = filtrar_mascotas_permitidas(lista_mascotas)\n",
    "\n",
    "print(\"Mascotas permitidas:\", resultado)\n",
    "\n"
   ]
  },
  {
   "cell_type": "code",
   "execution_count": 35,
   "id": "b8feb17d",
   "metadata": {},
   "outputs": [],
   "source": [
    "# 8. Escribe un programa que pida al usuario dos números e intente dividirlos. Si el usuario ingresa un valor no numéricoo intenta dividir por cero, maneja esas excepciones de manera adecuada. Asegúrate de mostrar un mensajeindicando sila diviión fue exitosa \n",
    "\n",
    "def dividir_numeros():\n",
    "    try:\n",
    "        num1 = float(input(\"Ingresa el primer número:12 \"))\n",
    "        num2 = float(input(\"Ingresa el segundo número: 3 \"))\n",
    "\n",
    "        resultado = num1 / num2\n",
    "\n",
    "    except ValueError:\n",
    "        print(\"Error: Debes ingresar solo números.\")\n",
    "    \n",
    "    except ZeroDivisionError:\n",
    "        print(\"Error: No se puede dividir entre cero.\")\n",
    "\n",
    "    else:\n",
    "        print(f\"División exitosa. Resultado: {resultado}\")\n",
    "\n",
    "    \n"
   ]
  },
  {
   "cell_type": "code",
   "execution_count": 26,
   "id": "c31da9fc",
   "metadata": {},
   "outputs": [
    {
     "name": "stdout",
     "output_type": "stream",
     "text": [
      "['Juan Pérez', 'Ana Gómez', 'Luis Martínez']\n"
     ]
    }
   ],
   "source": [
    "# 7. Genera una función que convierta una lista de tuplas en una lista de strings. Usa la función map()\n",
    "\n",
    "def tuplas_a_strings(lista_tuplas):\n",
    "    \n",
    "    return list(map(lambda t: \" \".join(t), lista_tuplas))\n",
    "\n",
    "nombres = [(\"Juan\", \"Pérez\"), (\"Ana\", \"Gómez\"), (\"Luis\", \"Martínez\")]\n",
    "resultado = tuplas_a_strings(nombres)\n",
    "print(resultado)\n"
   ]
  },
  {
   "cell_type": "code",
   "execution_count": 17,
   "id": "d3a5acd1",
   "metadata": {},
   "outputs": [
    {
     "name": "stdout",
     "output_type": "stream",
     "text": [
      "120\n"
     ]
    }
   ],
   "source": [
    "# 6. Escribe una función que calcule el factorial de un número de manera recursiva.\n",
    "\n",
    "def factorial(n):\n",
    "    if n < 0:\n",
    "        return \"Error: el factorial no se puede calcular para negativos\"\n",
    "    if n == 0 or n == 1:\n",
    "        return 1\n",
    "    return n * factorial(n - 1)\n",
    "\n",
    "print(factorial(5))  \n"
   ]
  },
  {
   "cell_type": "code",
   "execution_count": 15,
   "id": "088040d0",
   "metadata": {},
   "outputs": [
    {
     "name": "stdout",
     "output_type": "stream",
     "text": [
      "6\n"
     ]
    }
   ],
   "source": [
    "# 5. Ecribe una función que tome una lista de números como parámetro y un valor opcional nota_aprobado, que por defecto es 5. La función debe calcular la media de los números en la lista y determinar si la media es mayor o igualque nota aprobado. Si es así, el estado será \"aprobado\", de lo contrario, será \"suspenso\". La función debe devolveruna tupla que contenga la media y el estado.\n",
    "\n",
    "notas = [4,6,10]\n",
    "nota_aprobatoria = 6\n",
    "\n",
    "def evaluar_promedio(notas,nota_aprobatoria=6):\n",
    "    media= sum(notas) / len(notas)\n",
    "    \n",
    "    if media>= nota_aprobatoria:\n",
    "        estado = \"Aprobado\"\n",
    "    \n",
    "    else :\n",
    "        estado = \"Suspendido\"\n",
    "\n",
    "    return (estado, media)\n",
    "\n",
    "print(nota_aprobatoria)\n",
    "\n"
   ]
  },
  {
   "cell_type": "code",
   "execution_count": 46,
   "id": "611b32ae",
   "metadata": {},
   "outputs": [
    {
     "name": "stdout",
     "output_type": "stream",
     "text": [
      "[9, 20, 20, 115]\n"
     ]
    }
   ],
   "source": [
    "# 4.Genera una función que calcule la diferencia entre los valores de dos listas.Usa la función map\n",
    "\n",
    "lista1 = [10,40,70,120]\n",
    "lista2 = [1,20,50, 5]\n",
    "\n",
    "def diferencia_listas(lista1, lista2):\n",
    "    return list(map(lambda x,y : x - y , lista1, lista2))\n",
    "\n",
    "resultado = diferencia_listas(lista1,lista2)\n",
    "print(resultado)"
   ]
  },
  {
   "cell_type": "code",
   "execution_count": null,
   "id": "ce8d8215",
   "metadata": {},
   "outputs": [
    {
     "name": "stdout",
     "output_type": "stream",
     "text": [
      "['cuadro']\n"
     ]
    }
   ],
   "source": [
    "# 3. Escribe una función que tome una lista de palabras y una palabra objetivo como parámetros.\n",
    "# La función debe devolver una lista con todas las palabras de la lista original que contengan la palabra objetivo.\n",
    "\n",
    "def buscar_palabras(lista_palabras, palabra_objetivo):\n",
    "\n",
    "    resultado = []\n",
    "    for palabra in lista_palabras:\n",
    "        if palabra_objetivo in palabra:\n",
    "            resultado.append(palabra)\n",
    "    return resultado\n",
    "\n",
    "\n",
    "palabras = [\"cuaderno\", \"libro\", \"boli\", \"marcador\", \"cuadro\"]\n",
    "objetivo = \"cuadr\"\n",
    "\n",
    "resultado = buscar_palabras(palabras, objetivo)\n",
    "print(resultado)\n"
   ]
  },
  {
   "cell_type": "code",
   "execution_count": 19,
   "id": "80c1909f",
   "metadata": {},
   "outputs": [],
   "source": [
    "def doblar_listas(lista_numero):\n",
    "    resultado = map(lambda x : x * 2 , lista_numero)\n",
    "    return list(resultado)"
   ]
  },
  {
   "cell_type": "code",
   "execution_count": 12,
   "id": "c3d62129",
   "metadata": {},
   "outputs": [
    {
     "name": "stdout",
     "output_type": "stream",
     "text": [
      "[2, 8, 12, 22, 168, 206, 240]\n"
     ]
    }
   ],
   "source": [
    "# 2.Dada una lista de números, obtén una nueva lista con el doble de cada valor. Usa la función map().\n",
    "\n",
    "lista_numero = [1,4,6,11,84,103,120]\n",
    "print(doblar_listas(lista_numero))"
   ]
  },
  {
   "cell_type": "code",
   "execution_count": 3,
   "id": "ab1be576",
   "metadata": {},
   "outputs": [
    {
     "name": "stdout",
     "output_type": "stream",
     "text": [
      "{'H': 1, 'o': 2, 'l': 1, 'a': 2, 'C': 1, 'r': 1}\n"
     ]
    }
   ],
   "source": [
    "resultado = contar_letras(\"Hola Caro\")\n",
    "print(resultado)"
   ]
  },
  {
   "cell_type": "code",
   "execution_count": null,
   "id": "86eadb72",
   "metadata": {},
   "outputs": [],
   "source": [
    "# 1.Escribe una función que reciba una cadena de texto como parámetro y devuelva un diccionario con las frecuencias de cada letra en la cadena.\n",
    "\n",
    "def contar_letras(cadena):\n",
    "    frecuencias = {}\n",
    "\n",
    "    for letra in cadena:\n",
    "        if letra != \" \":\n",
    "            if letra in frecuencias:\n",
    "                frecuencias [letra] += 1 \n",
    "            else :\n",
    "                frecuencias[letra]= 1\n",
    "            \n",
    "    return frecuencias\n",
    "\n"
   ]
  }
 ],
 "metadata": {
  "kernelspec": {
   "display_name": "Python 3",
   "language": "python",
   "name": "python3"
  },
  "language_info": {
   "codemirror_mode": {
    "name": "ipython",
    "version": 3
   },
   "file_extension": ".py",
   "mimetype": "text/x-python",
   "name": "python",
   "nbconvert_exporter": "python",
   "pygments_lexer": "ipython3",
   "version": "3.13.4"
  }
 },
 "nbformat": 4,
 "nbformat_minor": 5
}
